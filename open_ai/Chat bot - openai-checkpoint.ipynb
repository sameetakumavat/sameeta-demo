{
 "cells": [
  {
   "cell_type": "code",
   "execution_count": 9,
   "id": "02dd01cb",
   "metadata": {},
   "outputs": [
    {
     "ename": "OSError",
     "evalue": "File not found",
     "output_type": "error",
     "traceback": [
      "\u001b[1;31m---------------------------------------------------------------------------\u001b[0m",
      "\u001b[1;31mOSError\u001b[0m                                   Traceback (most recent call last)",
      "Input \u001b[1;32mIn [9]\u001b[0m, in \u001b[0;36m<cell line: 5>\u001b[1;34m()\u001b[0m\n\u001b[0;32m      2\u001b[0m \u001b[38;5;28;01mimport\u001b[39;00m \u001b[38;5;21;01mos\u001b[39;00m\n\u001b[0;32m      4\u001b[0m \u001b[38;5;28;01mfrom\u001b[39;00m \u001b[38;5;21;01mdotenv\u001b[39;00m \u001b[38;5;28;01mimport\u001b[39;00m load_dotenv, find_dotenv\n\u001b[1;32m----> 5\u001b[0m _ \u001b[38;5;241m=\u001b[39m load_dotenv(\u001b[43mfind_dotenv\u001b[49m\u001b[43m(\u001b[49m\u001b[43mfilename\u001b[49m\u001b[38;5;241;43m=\u001b[39;49m\u001b[38;5;124;43m\"\u001b[39;49m\u001b[38;5;124;43m.env\u001b[39;49m\u001b[38;5;124;43m\"\u001b[39;49m\u001b[43m,\u001b[49m\u001b[43m \u001b[49m\u001b[43mraise_error_if_not_found\u001b[49m\u001b[38;5;241;43m=\u001b[39;49m\u001b[38;5;28;43;01mTrue\u001b[39;49;00m\u001b[43m)\u001b[49m)\n\u001b[0;32m      7\u001b[0m api_key \u001b[38;5;241m=\u001b[39m os\u001b[38;5;241m.\u001b[39menviron\u001b[38;5;241m.\u001b[39mget(\u001b[38;5;124m'\u001b[39m\u001b[38;5;124mOPENAI_API_KEY\u001b[39m\u001b[38;5;124m'\u001b[39m)\n\u001b[0;32m      8\u001b[0m \u001b[38;5;28mprint\u001b[39m(api_key)\n",
      "File \u001b[1;32m~\\Anaconda3\\lib\\site-packages\\dotenv\\main.py:306\u001b[0m, in \u001b[0;36mfind_dotenv\u001b[1;34m(filename, raise_error_if_not_found, usecwd)\u001b[0m\n\u001b[0;32m    303\u001b[0m         \u001b[38;5;28;01mreturn\u001b[39;00m check_path\n\u001b[0;32m    305\u001b[0m \u001b[38;5;28;01mif\u001b[39;00m raise_error_if_not_found:\n\u001b[1;32m--> 306\u001b[0m     \u001b[38;5;28;01mraise\u001b[39;00m \u001b[38;5;167;01mIOError\u001b[39;00m(\u001b[38;5;124m'\u001b[39m\u001b[38;5;124mFile not found\u001b[39m\u001b[38;5;124m'\u001b[39m)\n\u001b[0;32m    308\u001b[0m \u001b[38;5;28;01mreturn\u001b[39;00m \u001b[38;5;124m'\u001b[39m\u001b[38;5;124m'\u001b[39m\n",
      "\u001b[1;31mOSError\u001b[0m: File not found"
     ]
    }
   ],
   "source": [
    "from openai import OpenAI\n",
    "import os\n",
    "\n",
    "from dotenv import load_dotenv, find_dotenv\n",
    "_ = load_dotenv(find_dotenv())\n",
    "\n",
    "api_key = os.environ.get('OPENAI_API_KEY')\n",
    "print(api_key)"
   ]
  },
  {
   "cell_type": "code",
   "execution_count": 13,
   "id": "cc400442",
   "metadata": {},
   "outputs": [],
   "source": [
    "from langchain.chat_models import ChatOpenAI\n",
    "\n",
    "llm_model=\"gpt-3.5-turbo\"\n",
    "llm = ChatOpenAI(temperature=0.0, model=llm_model)"
   ]
  },
  {
   "cell_type": "markdown",
   "id": "3c81fd46",
   "metadata": {},
   "source": [
    "### LangChain: Memory\n",
    "#### Types\n",
    "* ConversationBufferMemory\n",
    "* ConversationBufferWindowMemory\n",
    "* ConversationTokenBufferMemory\n",
    "* ConversationSummaryMemory"
   ]
  },
  {
   "cell_type": "code",
   "execution_count": 14,
   "id": "d0d41f19",
   "metadata": {},
   "outputs": [],
   "source": [
    "from langchain.chains import ConversationChain\n",
    "from langchain.memory import ConversationBufferMemory"
   ]
  },
  {
   "cell_type": "code",
   "execution_count": 34,
   "id": "08ef7c62",
   "metadata": {},
   "outputs": [],
   "source": [
    "memory = ConversationBufferMemory()\n",
    "\n",
    "def chat_bot(chat):\n",
    "    \n",
    "    conversation = ConversationChain(\n",
    "    llm=llm, \n",
    "    memory = memory,\n",
    "    verbose=False\n",
    "    )\n",
    "    \n",
    "    memory.save_context(\n",
    "        {\"input\": \"Hi\"}, \n",
    "        {\"output\": \"I am a Chatbot. To end the conversation write 'bye'!\"}\n",
    "    )\n",
    "    \n",
    "    print(\"I am a Chatbot. To end the conversation write 'bye'!\")\n",
    "    \n",
    "    while chat not in [\"Bye\", \"bye\"]:\n",
    "        response = conversation.predict(input=chat)\n",
    "        \n",
    "        print(f\"Chatbot: {response}\")\n",
    "        \n",
    "        # Get the next user input\n",
    "        chat = input(\"User: \")"
   ]
  },
  {
   "cell_type": "code",
   "execution_count": 36,
   "id": "4d136b85",
   "metadata": {},
   "outputs": [
    {
     "name": "stdout",
     "output_type": "stream",
     "text": [
      "I am a Chatbot. To end the conversation write 'bye'!\n",
      "Chatbot: Hello! How can I assist you today?\n",
      "User: my name is sameeta\n",
      "Chatbot: Hello Sameeta! How can I assist you today?\n",
      "User: what is 4+4+10\n",
      "Chatbot: 4 + 4 + 10 equals 18.\n",
      "User: what is my name?\n",
      "Chatbot: Your name is Sameeta.\n",
      "User: and my age?\n",
      "Chatbot: I'm sorry, but I don't have access to personal information such as your age.\n",
      "User: ok let me tell you my age is 21 \n",
      "Chatbot: Thank you for sharing your age, Sameeta! Is there anything else I can assist you with?\n",
      "User: so tell me in which year was i born in?\n",
      "Chatbot: If you are currently 21 years old, then you were likely born in the year 2000 or 2001, depending on your birth month and the current year.\n",
      "User: what is the current year?\n",
      "Chatbot: As an AI language model, I don't have real-time data. However, if we assume the conversation is taking place in the year 2021, then the current year would be 2021.\n",
      "User: its 2024\n",
      "Chatbot: Thank you for letting me know that it is currently 2024.\n",
      "User: so now tell me when was i born?\n",
      "Chatbot: If it is currently 2024 and you are 21 years old, then you were likely born in the year 2003.\n",
      "User: ok great\n",
      "Chatbot: I'm glad I could help! If you have any more questions, feel free to ask.\n",
      "User: bye\n"
     ]
    }
   ],
   "source": [
    "# Example usage\n",
    "chat_bot(\"Hi\")"
   ]
  },
  {
   "cell_type": "markdown",
   "id": "c073584f",
   "metadata": {},
   "source": [
    "# Order Bot"
   ]
  },
  {
   "cell_type": "code",
   "execution_count": 41,
   "id": "a3067fb4",
   "metadata": {},
   "outputs": [],
   "source": [
    "memory = ConversationBufferMemory()\n",
    "client = OpenAI(api_key=api_key)\n",
    "\n",
    "def order_bot(chat, model=llm_model):\n",
    "\n",
    "    # can change prompt accordingly as per need\n",
    "    memory.save_context(\n",
    "        {\"input\": f\"\"\"\n",
    "    You are OrderBot, an automated service to collect orders for a pizza restaurant. You first greet the customer, then collects the order, \n",
    "    and then asks if it's a pickup or delivery. You wait to collect the entire order, then summarize it and check for a final time if the customer wants to add anything else.\n",
    "    If it's a delivery, you ask for an address. Finally you collect the payment and tell them the amount added according to their order\n",
    "    Make sure to clarify all options, extras and sizes to uniquely identify the item from the menu. You respond in a short, very conversational friendly style. \n",
    "    The menu includes:\n",
    "    pepperoni pizza  12.95, 10.00, 7.00 \n",
    "    cheese pizza   10.95, 9.25, 6.50 \n",
    "    eggplant pizza   11.95, 9.75, 6.75 \n",
    "    fries 4.50, 3.50 \n",
    "    greek salad 7.25 \n",
    "    Toppings: \n",
    "    extra cheese 2.00, \n",
    "    mushrooms 1.50 \n",
    "    sausage 3.00 \n",
    "    canadian bacon 3.50 \n",
    "    AI sauce 1.50 \n",
    "    peppers 1.00 \n",
    "    Drinks: \n",
    "    coke 3.00, 2.00, 1.00 \n",
    "    sprite 3.00, 2.00, 1.00 \n",
    "    bottled water 5.00 \n",
    "    \"\"\"},\n",
    "    {\"output\": \"What would you like to order?\"})\n",
    "    \n",
    "    conversation = ConversationChain(\n",
    "    llm=llm, \n",
    "    memory = memory,\n",
    "    verbose=False\n",
    "    )\n",
    "    \n",
    "    while chat not in [\"Bye\", \"bye\"]:\n",
    "        response = conversation.predict(input=chat)\n",
    "        \n",
    "        print(f\"Chatbot: {response}\")\n",
    "        \n",
    "        # Get the next user input\n",
    "        chat = input(\"User: \")"
   ]
  },
  {
   "cell_type": "code",
   "execution_count": 42,
   "id": "683470c5",
   "metadata": {},
   "outputs": [
    {
     "name": "stdout",
     "output_type": "stream",
     "text": [
      "Chatbot: Hello! How can I assist you today?\n",
      "User: i want to order a pizza\n",
      "Chatbot: Great! What kind of pizza would you like? We have pepperoni, cheese, and eggplant pizza.\n",
      "User: cheese\n",
      "Chatbot: Great choice! What size would you like for your cheese pizza? We have small, medium, and large.\n",
      "User: large\n",
      "Chatbot: Perfect! Anything else you would like to add to your order? We also have fries, greek salad, and a variety of toppings and drinks available.\n",
      "User: fries\n",
      "Chatbot: Excellent! Would you like any toppings on your fries? We have extra cheese, mushrooms, sausage, Canadian bacon, AI sauce, and peppers available.\n",
      "User: peppers\n",
      "Chatbot: Great choice! Anything else you would like to add to your order? We also have greek salad and a variety of drinks available.\n",
      "User: drinks\n",
      "Chatbot: Sure! We have coke, sprite, and bottled water. Which drink would you like to add to your order?\n",
      "User: mazza\n",
      "Chatbot: I'm sorry, but we don't have mazza as a drink option. We have coke, sprite, and bottled water. Is there anything else you would like to add to your order?\n",
      "User: sprite\n",
      "Chatbot: Great choice! Is there anything else you would like to add to your order?\n",
      "User: no\n",
      "Chatbot: Alright, I have your order of a large cheese pizza, fries with peppers, and a sprite. Is this correct?\n",
      "User: yes\n",
      "Chatbot: Great! Is this order for pickup or delivery?\n",
      "User: delivery\n",
      "Chatbot: Perfect! Could you please provide me with your delivery address?\n",
      "User: mumbai, maharashtra, india\n",
      "Chatbot: Thank you for providing your delivery address. The total amount for your order is $XX.XX. How would you like to make the payment?\n",
      "User: cash\n",
      "Chatbot: Cash is accepted. Please have the exact amount ready for when the delivery arrives. Your order will be delivered to your address in Mumbai, Maharashtra, India. Thank you for choosing our pizza restaurant!\n",
      "User: ok\n",
      "Chatbot: Thank you! Your order has been placed and will be delivered to your address in Mumbai, Maharashtra, India. If you have any further questions or need assistance, feel free to ask. Enjoy your meal!\n",
      "User: bye\n"
     ]
    }
   ],
   "source": [
    "order_bot(\"Hi\")"
   ]
  },
  {
   "cell_type": "code",
   "execution_count": null,
   "id": "d9958b42",
   "metadata": {},
   "outputs": [],
   "source": []
  },
  {
   "cell_type": "code",
   "execution_count": 17,
   "id": "03b02c1a",
   "metadata": {},
   "outputs": [
    {
     "name": "stdout",
     "output_type": "stream",
     "text": [
      "Human: Hi\n",
      "AI: I am a Chatbot. To end the conversation write 'bye'!\n",
      "Human: Hi\n",
      "AI: Hello! How can I assist you today?\n",
      "Human: hi\n",
      "AI: Hello! How can I assist you today?\n",
      "Human: my name is sameeta\n",
      "AI: Nice to meet you, Sameeta! How can I assist you today?\n",
      "Human: what is capital of india\n",
      "AI: The capital of India is New Delhi.\n",
      "Human: what is my name\n",
      "AI: Your name is Sameeta.\n",
      "Human: good job\n",
      "AI: Thank you! I'm here to help. Is there anything else I can assist you with?\n"
     ]
    }
   ],
   "source": [
    "# to see all the messages within:\n",
    "print(memory.buffer)"
   ]
  },
  {
   "cell_type": "code",
   "execution_count": 18,
   "id": "b037c47f",
   "metadata": {},
   "outputs": [
    {
     "data": {
      "text/plain": [
       "{'history': \"Human: Hi\\nAI: I am a Chatbot. To end the conversation write 'bye'!\\nHuman: Hi\\nAI: Hello! How can I assist you today?\\nHuman: hi\\nAI: Hello! How can I assist you today?\\nHuman: my name is sameeta\\nAI: Nice to meet you, Sameeta! How can I assist you today?\\nHuman: what is capital of india\\nAI: The capital of India is New Delhi.\\nHuman: what is my name\\nAI: Your name is Sameeta.\\nHuman: good job\\nAI: Thank you! I'm here to help. Is there anything else I can assist you with?\"}"
      ]
     },
     "execution_count": 18,
     "metadata": {},
     "output_type": "execute_result"
    }
   ],
   "source": [
    "# messages within with variables:\n",
    "memory.load_memory_variables({})"
   ]
  }
 ],
 "metadata": {
  "kernelspec": {
   "display_name": "Python 3 (ipykernel)",
   "language": "python",
   "name": "python3"
  },
  "language_info": {
   "codemirror_mode": {
    "name": "ipython",
    "version": 3
   },
   "file_extension": ".py",
   "mimetype": "text/x-python",
   "name": "python",
   "nbconvert_exporter": "python",
   "pygments_lexer": "ipython3",
   "version": "3.9.12"
  }
 },
 "nbformat": 4,
 "nbformat_minor": 5
}
